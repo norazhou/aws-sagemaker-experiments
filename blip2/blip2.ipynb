{
 "cells": [
  {
   "cell_type": "code",
   "execution_count": 1,
   "id": "8a8d2772-14d0-4eba-9dc3-b8c77f0e5242",
   "metadata": {},
   "outputs": [
    {
     "name": "stderr",
     "output_type": "stream",
     "text": [
      "/root/anaconda3/envs/conda/lib/python3.11/site-packages/tqdm/auto.py:21: TqdmWarning: IProgress not found. Please update jupyter and ipywidgets. See https://ipywidgets.readthedocs.io/en/stable/user_install.html\n",
      "  from .autonotebook import tqdm as notebook_tqdm\n",
      "Loading checkpoint shards: 100%|███████████████████████████████████████████████████| 5/5 [01:56<00:00, 23.30s/it]\n"
     ]
    },
    {
     "data": {
      "text/plain": [
       "['a car that has been in an accident']"
      ]
     },
     "execution_count": 1,
     "metadata": {},
     "output_type": "execute_result"
    }
   ],
   "source": [
    "import torch\n",
    "from PIL import Image\n",
    "# setup device to use\n",
    "device = torch.device(\"cuda\") if torch.cuda.is_available() else \"cpu\"\n",
    "# load sample image\n",
    "raw_image = Image.open(\"img/cardamage3.png\").convert(\"RGB\")\n",
    "#display(raw_image.resize((596, 437)))\n",
    "\n",
    "from lavis.models import load_model_and_preprocess\n",
    "# loads BLIP-2 pre-trained model\n",
    "model, vis_processors, _ = load_model_and_preprocess(name=\"blip2_t5\", model_type=\"pretrain_flant5xxl\", is_eval=True, device=device)\n",
    "# prepare the image\n",
    "image = vis_processors[\"eval\"](raw_image).unsqueeze(0).to(device)\n",
    "\n",
    "model.generate({\"image\": image, \"prompt\": \"Question: What is inside this image? Answer:\"})"
   ]
  },
  {
   "cell_type": "code",
   "execution_count": 2,
   "id": "8d2eb73c-f218-4779-a4ec-146b68305966",
   "metadata": {},
   "outputs": [
    {
     "name": "stdout",
     "output_type": "stream",
     "text": [
      "Question: what is inside this image? Answer: a car that has been in an accident. Question: Which part of the car is damaged Answer:\n"
     ]
    },
    {
     "data": {
      "text/plain": [
       "['the front of the car']"
      ]
     },
     "execution_count": 2,
     "metadata": {},
     "output_type": "execute_result"
    }
   ],
   "source": [
    "context = [\n",
    "    (\"what is inside this image?\", \"a car that has been in an accident\")\n",
    "]\n",
    "question = \"Which part of the car is damaged\"\n",
    "template = \"Question: {} Answer: {}.\"\n",
    "prompt = \" \".join([template.format(context[i][0], context[i][1]) for i in range(len(context))]) + \" Question: \" + question + \" Answer:\"\n",
    "print(prompt)\n",
    "# generate model's response\n",
    "model.generate({\"image\": image,\"prompt\": prompt})"
   ]
  },
  {
   "cell_type": "code",
   "execution_count": null,
   "id": "89fb261d-cb89-4952-9c49-8e1197b78262",
   "metadata": {},
   "outputs": [],
   "source": []
  }
 ],
 "metadata": {
  "kernelspec": {
   "display_name": "Python 3 (ipykernel)",
   "language": "python",
   "name": "python3"
  },
  "language_info": {
   "codemirror_mode": {
    "name": "ipython",
    "version": 3
   },
   "file_extension": ".py",
   "mimetype": "text/x-python",
   "name": "python",
   "nbconvert_exporter": "python",
   "pygments_lexer": "ipython3",
   "version": "3.11.4"
  }
 },
 "nbformat": 4,
 "nbformat_minor": 5
}
